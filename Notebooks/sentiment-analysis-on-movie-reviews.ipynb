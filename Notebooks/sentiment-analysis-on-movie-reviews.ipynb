{
 "cells": [
  {
   "cell_type": "markdown",
   "id": "75c3fb96",
   "metadata": {
    "papermill": {
     "duration": 0.005269,
     "end_time": "2024-05-10T03:39:46.349623",
     "exception": false,
     "start_time": "2024-05-10T03:39:46.344354",
     "status": "completed"
    },
    "tags": []
   },
   "source": [
    "### Import necessary libraries"
   ]
  },
  {
   "cell_type": "code",
   "execution_count": 1,
   "id": "baf932ae",
   "metadata": {
    "_cell_guid": "b1076dfc-b9ad-4769-8c92-a6c4dae69d19",
    "_uuid": "8f2839f25d086af736a60e9eeb907d3b93b6e0e5",
    "execution": {
     "iopub.execute_input": "2024-05-10T03:39:46.360789Z",
     "iopub.status.busy": "2024-05-10T03:39:46.360462Z",
     "iopub.status.idle": "2024-05-10T03:39:49.151036Z",
     "shell.execute_reply": "2024-05-10T03:39:49.150263Z"
    },
    "papermill": {
     "duration": 2.79878,
     "end_time": "2024-05-10T03:39:49.153470",
     "exception": false,
     "start_time": "2024-05-10T03:39:46.354690",
     "status": "completed"
    },
    "tags": []
   },
   "outputs": [],
   "source": [
    "# This Python 3 environment comes with many helpful analytics libraries installed\n",
    "# It is defined by the kaggle/python Docker image: https://github.com/kaggle/docker-python\n",
    "# For example, here's several helpful packages to load\n",
    "\n",
    "import numpy as np # linear algebra\n",
    "import pandas as pd # data processing, CSV file I/O (e.g. pd.read_csv)\n",
    "import sklearn\n",
    "import os\n",
    "import zipfile\n",
    "import nltk\n",
    "from nltk.tokenize import word_tokenize"
   ]
  },
  {
   "cell_type": "code",
   "execution_count": 2,
   "id": "77f4a80d",
   "metadata": {
    "execution": {
     "iopub.execute_input": "2024-05-10T03:39:49.166319Z",
     "iopub.status.busy": "2024-05-10T03:39:49.165888Z",
     "iopub.status.idle": "2024-05-10T03:39:49.173021Z",
     "shell.execute_reply": "2024-05-10T03:39:49.172104Z"
    },
    "papermill": {
     "duration": 0.015131,
     "end_time": "2024-05-10T03:39:49.174853",
     "exception": false,
     "start_time": "2024-05-10T03:39:49.159722",
     "status": "completed"
    },
    "tags": []
   },
   "outputs": [
    {
     "name": "stdout",
     "output_type": "stream",
     "text": [
      "train: /kaggle/input/sentiment-analysis-on-movie-reviews/train.tsv.zip\n",
      "test: /kaggle/input/sentiment-analysis-on-movie-reviews/test.tsv.zip\n"
     ]
    }
   ],
   "source": [
    "for dirname, _, filenames in os.walk('/kaggle/input'):\n",
    "    for filename in filenames:\n",
    "        path = os.path.join(dirname, filename)\n",
    "        if 'train' in path:\n",
    "            train_path = path\n",
    "        elif 'test' in path:\n",
    "            test_path = path\n",
    "\n",
    "print(\"train:\", train_path)\n",
    "print(\"test:\", test_path)"
   ]
  },
  {
   "cell_type": "code",
   "execution_count": 3,
   "id": "aacaa850",
   "metadata": {
    "execution": {
     "iopub.execute_input": "2024-05-10T03:39:49.185722Z",
     "iopub.status.busy": "2024-05-10T03:39:49.185458Z",
     "iopub.status.idle": "2024-05-10T03:39:49.610671Z",
     "shell.execute_reply": "2024-05-10T03:39:49.609590Z"
    },
    "papermill": {
     "duration": 0.433263,
     "end_time": "2024-05-10T03:39:49.613096",
     "exception": false,
     "start_time": "2024-05-10T03:39:49.179833",
     "status": "completed"
    },
    "tags": []
   },
   "outputs": [
    {
     "name": "stdout",
     "output_type": "stream",
     "text": [
      "<class 'pandas.core.frame.DataFrame'>\n",
      "RangeIndex: 156060 entries, 0 to 156059\n",
      "Data columns (total 4 columns):\n",
      " #   Column      Non-Null Count   Dtype \n",
      "---  ------      --------------   ----- \n",
      " 0   PhraseId    156060 non-null  int64 \n",
      " 1   SentenceId  156060 non-null  int64 \n",
      " 2   Phrase      156060 non-null  object\n",
      " 3   Sentiment   156060 non-null  int64 \n",
      "dtypes: int64(3), object(1)\n",
      "memory usage: 4.8+ MB\n",
      "<class 'pandas.core.frame.DataFrame'>\n",
      "RangeIndex: 66292 entries, 0 to 66291\n",
      "Data columns (total 3 columns):\n",
      " #   Column      Non-Null Count  Dtype \n",
      "---  ------      --------------  ----- \n",
      " 0   PhraseId    66292 non-null  int64 \n",
      " 1   SentenceId  66292 non-null  int64 \n",
      " 2   Phrase      66291 non-null  object\n",
      "dtypes: int64(2), object(1)\n",
      "memory usage: 1.5+ MB\n"
     ]
    }
   ],
   "source": [
    "train_df = pd.read_table(train_path)\n",
    "test_df = pd.read_table(test_path)\n",
    "\n",
    "train_df.info()\n",
    "test_df.info()"
   ]
  },
  {
   "cell_type": "markdown",
   "id": "e14422fe",
   "metadata": {
    "papermill": {
     "duration": 0.005484,
     "end_time": "2024-05-10T03:39:49.624463",
     "exception": false,
     "start_time": "2024-05-10T03:39:49.618979",
     "status": "completed"
    },
    "tags": []
   },
   "source": [
    "There is a null value in test_df.Phrase that we have to replace"
   ]
  },
  {
   "cell_type": "code",
   "execution_count": 4,
   "id": "8467e8ea",
   "metadata": {
    "execution": {
     "iopub.execute_input": "2024-05-10T03:39:49.636657Z",
     "iopub.status.busy": "2024-05-10T03:39:49.635995Z",
     "iopub.status.idle": "2024-05-10T03:39:49.875295Z",
     "shell.execute_reply": "2024-05-10T03:39:49.873771Z"
    },
    "papermill": {
     "duration": 0.247746,
     "end_time": "2024-05-10T03:39:49.877664",
     "exception": false,
     "start_time": "2024-05-10T03:39:49.629918",
     "status": "completed"
    },
    "tags": []
   },
   "outputs": [
    {
     "data": {
      "image/png": "[encoded data removed]",
      "text/plain": [
       "<Figure size 640x480 with 1 Axes>"
      ]
     },
     "metadata": {},
     "output_type": "display_data"
    }
   ],
   "source": [
    "import matplotlib.pyplot as plt\n",
    "train_df.Sentiment.value_counts().sort_index().plot(kind='bar')\n",
    "plt.xticks(rotation=0)\n",
    "plt.show()"
   ]
  },
  {
   "cell_type": "markdown",
   "id": "1e92dfb5",
   "metadata": {
    "papermill": {
     "duration": 0.0054,
     "end_time": "2024-05-10T03:39:49.889191",
     "exception": false,
     "start_time": "2024-05-10T03:39:49.883791",
     "status": "completed"
    },
    "tags": []
   },
   "source": [
    "The most common sentiment is 2 which is neutral"
   ]
  },
  {
   "cell_type": "code",
   "execution_count": 5,
   "id": "6770c0c1",
   "metadata": {
    "execution": {
     "iopub.execute_input": "2024-05-10T03:39:49.900948Z",
     "iopub.status.busy": "2024-05-10T03:39:49.900589Z",
     "iopub.status.idle": "2024-05-10T03:39:49.915193Z",
     "shell.execute_reply": "2024-05-10T03:39:49.914501Z"
    },
    "papermill": {
     "duration": 0.022584,
     "end_time": "2024-05-10T03:39:49.917056",
     "exception": false,
     "start_time": "2024-05-10T03:39:49.894472",
     "status": "completed"
    },
    "tags": []
   },
   "outputs": [],
   "source": [
    "\n",
    "test_df['Phrase'] = test_df['Phrase'].fillna('')"
   ]
  },
  {
   "cell_type": "code",
   "execution_count": 6,
   "id": "69257e9f",
   "metadata": {
    "execution": {
     "iopub.execute_input": "2024-05-10T03:39:49.929774Z",
     "iopub.status.busy": "2024-05-10T03:39:49.929180Z",
     "iopub.status.idle": "2024-05-10T03:39:49.933018Z",
     "shell.execute_reply": "2024-05-10T03:39:49.932198Z"
    },
    "papermill": {
     "duration": 0.012676,
     "end_time": "2024-05-10T03:39:49.935384",
     "exception": false,
     "start_time": "2024-05-10T03:39:49.922708",
     "status": "completed"
    },
    "tags": []
   },
   "outputs": [],
   "source": [
    "\n",
    "\n",
    "\n",
    "# train_df = process_text(__train_dataset)\n",
    "# test_dataset = process_text(__test_dataset)"
   ]
  },
  {
   "cell_type": "code",
   "execution_count": 7,
   "id": "148bb99c",
   "metadata": {
    "execution": {
     "iopub.execute_input": "2024-05-10T03:39:49.947285Z",
     "iopub.status.busy": "2024-05-10T03:39:49.947003Z",
     "iopub.status.idle": "2024-05-10T03:39:51.373963Z",
     "shell.execute_reply": "2024-05-10T03:39:51.373188Z"
    },
    "papermill": {
     "duration": 1.435383,
     "end_time": "2024-05-10T03:39:51.376319",
     "exception": false,
     "start_time": "2024-05-10T03:39:49.940936",
     "status": "completed"
    },
    "tags": []
   },
   "outputs": [],
   "source": [
    "import re\n",
    "import string\n",
    "from nltk.stem.snowball import SnowballStemmer\n",
    "from nltk.corpus import stopwords\n",
    "\n",
    "stemmer = SnowballStemmer('english')\n",
    "english_stopwords = stopwords.words('english')\n",
    "\n",
    "# print(\"Before:\\n\", train_df.Phrase[10:20])\n",
    "train_df['Phrase'] = [re.sub(r'\\d+', 'num', re.sub(r\"[^\\s\\w]\", \"\", t)).lower() for t in train_df.Phrase]\n",
    "test_df['Phrase'] =  [re.sub(r'\\d+', 'num', re.sub(r\"[^\\s\\w]\", \"\", t)).lower() for t in test_df.Phrase]\n",
    "\n",
    "# print(\"After:\\n\", train_df.Phrase[10:20])\n",
    "from sklearn.feature_extraction.text import TfidfVectorizer\n",
    "\n",
    "vectorizer = TfidfVectorizer(tokenizer =lambda text:[stemmer.stem(token) for token in word_tokenize(text) if token not in english_stopwords[:115]],\n",
    "                            stop_words=english_stopwords[:115],\n",
    "                            ngram_range=(1,2),\n",
    "                            max_features=2000)\n"
   ]
  },
  {
   "cell_type": "code",
   "execution_count": 8,
   "id": "cc3f3f09",
   "metadata": {
    "execution": {
     "iopub.execute_input": "2024-05-10T03:39:51.388453Z",
     "iopub.status.busy": "2024-05-10T03:39:51.388165Z",
     "iopub.status.idle": "2024-05-10T03:40:29.714648Z",
     "shell.execute_reply": "2024-05-10T03:40:29.713621Z"
    },
    "papermill": {
     "duration": 38.339964,
     "end_time": "2024-05-10T03:40:29.721888",
     "exception": false,
     "start_time": "2024-05-10T03:39:51.381924",
     "status": "completed"
    },
    "tags": []
   },
   "outputs": [
    {
     "name": "stderr",
     "output_type": "stream",
     "text": [
      "/opt/conda/lib/python3.10/site-packages/sklearn/feature_extraction/text.py:528: UserWarning: The parameter 'token_pattern' will not be used since 'tokenizer' is not None'\n",
      "  warnings.warn(\n",
      "/opt/conda/lib/python3.10/site-packages/sklearn/feature_extraction/text.py:409: UserWarning: Your stop_words may be inconsistent with your preprocessing. Tokenizing the stop words generated tokens [\"'d\", \"'s\", 'll', 're', 've'] not in stop_words.\n",
      "  warnings.warn(\n"
     ]
    },
    {
     "data": {
      "text/plain": [
       "array(['abandon', 'abil', 'abl', 'absolut', 'absorb', 'abstract',\n",
       "       'absurd', 'accent', 'accept', 'access', 'accomplish', 'accur',\n",
       "       'ach', 'achiev', 'across', 'act', 'action', 'action film',\n",
       "       'action movi', 'action sequenc', 'actor', 'actress', 'actual',\n",
       "       'ad', 'adam', 'adam sandler', 'adapt', 'add', 'addit', 'admir',\n",
       "       'admit', 'adolesc', 'adult', 'adventur', 'affair', 'affect',\n",
       "       'afraid', 'afterschool', 'age', 'ago', 'ahead', 'aim', 'aimless',\n",
       "       'air', 'alien', 'aliv', 'allen', 'allow', 'almost', 'alon',\n",
       "       'along', 'alreadi', 'also', 'altern', 'although', 'alway',\n",
       "       'amateurish', 'amaz', 'ambigu', 'ambit', 'ambiti', 'america',\n",
       "       'american', 'among', 'amount', 'amus', 'analyz', 'angel', 'angst',\n",
       "       'anim', 'annoy', 'anoth', 'answer', 'anyon', 'anyth', 'apart',\n",
       "       'appar', 'appeal', 'appear', 'appreci', 'approach', 'appropri',\n",
       "       'area', 'argu', 'argument', 'around', 'arriv', 'art', 'artifici',\n",
       "       'artist', 'ask', 'aspect', 'aspir', 'assassin', 'assur',\n",
       "       'astonish', 'atmospher', 'attempt', 'attent', 'attract', 'audienc',\n",
       "       'authent', 'author', 'averag', 'avoid', 'aw', 'award', 'away',\n",
       "       'awkward', 'b', 'back', 'background', 'bad', 'bad movi', 'baffl',\n",
       "       'bag', 'balanc', 'banal', 'band', 'bare', 'barrel', 'barri',\n",
       "       'base', 'basic', 'battl', 'bear', 'beat', 'beauti', 'becom',\n",
       "       'begin', 'behavior', 'behind', 'believ', 'belli', 'belt',\n",
       "       'beneath', 'benefit', 'benigni', 'best', 'best film', 'better',\n",
       "       'better than', 'beyond', 'big', 'big screen', 'bill', 'biopic',\n",
       "       'bit', 'bite', 'bitter'], dtype=object)"
      ]
     },
     "execution_count": 8,
     "metadata": {},
     "output_type": "execute_result"
    }
   ],
   "source": [
    "vectorizer.fit(train_df.Phrase)\n",
    "vectorizer.get_feature_names_out()[:150]"
   ]
  },
  {
   "cell_type": "code",
   "execution_count": 9,
   "id": "0b19be58",
   "metadata": {
    "execution": {
     "iopub.execute_input": "2024-05-10T03:40:29.734788Z",
     "iopub.status.busy": "2024-05-10T03:40:29.734514Z",
     "iopub.status.idle": "2024-05-10T03:41:23.692474Z",
     "shell.execute_reply": "2024-05-10T03:41:23.691615Z"
    },
    "papermill": {
     "duration": 53.967391,
     "end_time": "2024-05-10T03:41:23.695304",
     "exception": false,
     "start_time": "2024-05-10T03:40:29.727913",
     "status": "completed"
    },
    "tags": []
   },
   "outputs": [],
   "source": [
    "from sklearn.model_selection import train_test_split\n",
    "\n",
    "X = vectorizer.transform(train_df.Phrase)\n",
    "y = train_df.Sentiment\n",
    "X_test = vectorizer.transform(test_df.Phrase)\n",
    "\n",
    "\n",
    "X_train, X_val, y_train, y_val = train_test_split(\n",
    "    X, y, test_size=0.2, random_state=42\n",
    ")"
   ]
  },
  {
   "cell_type": "code",
   "execution_count": 10,
   "id": "9dce6910",
   "metadata": {
    "execution": {
     "iopub.execute_input": "2024-05-10T03:41:23.709600Z",
     "iopub.status.busy": "2024-05-10T03:41:23.709300Z",
     "iopub.status.idle": "2024-05-10T03:54:05.863779Z",
     "shell.execute_reply": "2024-05-10T03:54:05.862699Z"
    },
    "papermill": {
     "duration": 762.170809,
     "end_time": "2024-05-10T03:54:05.872774",
     "exception": false,
     "start_time": "2024-05-10T03:41:23.701965",
     "status": "completed"
    },
    "tags": []
   },
   "outputs": [
    {
     "data": {
      "text/plain": [
       "0.6319043957452262"
      ]
     },
     "execution_count": 10,
     "metadata": {},
     "output_type": "execute_result"
    }
   ],
   "source": [
    "from sklearn.ensemble import RandomForestClassifier\n",
    "from sklearn.metrics import accuracy_score\n",
    "model = RandomForestClassifier()\n",
    "model.fit(X_train, y_train)\n",
    "y_pred1 = model.predict(X_val)\n",
    "\n",
    "accuracy_score(y_val, y_pred1)"
   ]
  },
  {
   "cell_type": "code",
   "execution_count": 11,
   "id": "d6d30440",
   "metadata": {
    "execution": {
     "iopub.execute_input": "2024-05-10T03:54:05.886122Z",
     "iopub.status.busy": "2024-05-10T03:54:05.885800Z",
     "iopub.status.idle": "2024-05-10T03:55:01.836227Z",
     "shell.execute_reply": "2024-05-10T03:55:01.834738Z"
    },
    "papermill": {
     "duration": 55.961135,
     "end_time": "2024-05-10T03:55:01.839938",
     "exception": false,
     "start_time": "2024-05-10T03:54:05.878803",
     "status": "completed"
    },
    "tags": []
   },
   "outputs": [
    {
     "name": "stderr",
     "output_type": "stream",
     "text": [
      "/opt/conda/lib/python3.10/site-packages/sklearn/model_selection/_validation.py:378: FitFailedWarning: \n",
      "20 fits failed out of a total of 80.\n",
      "The score on these train-test partitions for these parameters will be set to nan.\n",
      "If these failures are not expected, you can try to debug them by setting error_score='raise'.\n",
      "\n",
      "Below are more details about the failures:\n",
      "--------------------------------------------------------------------------------\n",
      "20 fits failed with the following error:\n",
      "Traceback (most recent call last):\n",
      "  File \"/opt/conda/lib/python3.10/site-packages/sklearn/model_selection/_validation.py\", line 686, in _fit_and_score\n",
      "    estimator.fit(X_train, y_train, **fit_params)\n",
      "  File \"/opt/conda/lib/python3.10/site-packages/sklearn/linear_model/_logistic.py\", line 1162, in fit\n",
      "    solver = _check_solver(self.solver, self.penalty, self.dual)\n",
      "  File \"/opt/conda/lib/python3.10/site-packages/sklearn/linear_model/_logistic.py\", line 54, in _check_solver\n",
      "    raise ValueError(\n",
      "ValueError: Solver lbfgs supports only 'l2' or 'none' penalties, got l1 penalty.\n",
      "\n",
      "  warnings.warn(some_fits_failed_message, FitFailedWarning)\n",
      "/opt/conda/lib/python3.10/site-packages/sklearn/model_selection/_search.py:952: UserWarning: One or more of the test scores are non-finite: [0.51216679        nan 0.51216679 0.51216679 0.51224689        nan\n",
      " 0.51289568 0.51491414 0.55750191        nan 0.56121843 0.57545174\n",
      " 0.60561646        nan 0.60436693 0.60940507]\n",
      "  warnings.warn(\n"
     ]
    },
    {
     "data": {
      "text/plain": [
       "0.6136101499423299"
      ]
     },
     "execution_count": 11,
     "metadata": {},
     "output_type": "execute_result"
    }
   ],
   "source": [
    "from sklearn.model_selection import GridSearchCV\n",
    "from sklearn.linear_model import LogisticRegression\n",
    "\n",
    "log_reg = LogisticRegression(max_iter=2000)\n",
    "\n",
    "grid = {'penalty':['l1', 'l2'],\n",
    "       'C':[0.001, 0.01, 0.1, 1],\n",
    "       'solver':['liblinear','lbfgs']}\n",
    "grid_search = GridSearchCV(log_reg, grid, cv=5, scoring='accuracy', n_jobs=-1)\n",
    "\n",
    "grid_search.fit(X_train, y_train)\n",
    "y_pred2 = grid_search.best_estimator_.predict(X_val)\n",
    "\n",
    "accuracy_score(y_val, y_pred2)"
   ]
  },
  {
   "cell_type": "code",
   "execution_count": 12,
   "id": "232cab88",
   "metadata": {
    "execution": {
     "iopub.execute_input": "2024-05-10T03:55:01.869382Z",
     "iopub.status.busy": "2024-05-10T03:55:01.868684Z",
     "iopub.status.idle": "2024-05-10T03:55:01.878324Z",
     "shell.execute_reply": "2024-05-10T03:55:01.877137Z"
    },
    "papermill": {
     "duration": 0.028149,
     "end_time": "2024-05-10T03:55:01.882198",
     "exception": false,
     "start_time": "2024-05-10T03:55:01.854049",
     "status": "completed"
    },
    "tags": []
   },
   "outputs": [],
   "source": [
    "# from sklearn.naive_bayes import GaussianNB\n",
    "# nb = GaussianNB()\n",
    "# nb.fit(X_train, y_train)\n",
    "\n",
    "# y_pred3 = nb.predict(X_val)\n",
    "# accuracy_score(y_val, y_pred3)"
   ]
  },
  {
   "cell_type": "code",
   "execution_count": 13,
   "id": "1d85500a",
   "metadata": {
    "execution": {
     "iopub.execute_input": "2024-05-10T03:55:01.909570Z",
     "iopub.status.busy": "2024-05-10T03:55:01.909061Z",
     "iopub.status.idle": "2024-05-10T03:56:13.962489Z",
     "shell.execute_reply": "2024-05-10T03:56:13.961132Z"
    },
    "papermill": {
     "duration": 72.071417,
     "end_time": "2024-05-10T03:56:13.966597",
     "exception": false,
     "start_time": "2024-05-10T03:55:01.895180",
     "status": "completed"
    },
    "tags": []
   },
   "outputs": [
    {
     "name": "stderr",
     "output_type": "stream",
     "text": [
      "/opt/conda/lib/python3.10/site-packages/sklearn/model_selection/_validation.py:378: FitFailedWarning: \n",
      "20 fits failed out of a total of 80.\n",
      "The score on these train-test partitions for these parameters will be set to nan.\n",
      "If these failures are not expected, you can try to debug them by setting error_score='raise'.\n",
      "\n",
      "Below are more details about the failures:\n",
      "--------------------------------------------------------------------------------\n",
      "20 fits failed with the following error:\n",
      "Traceback (most recent call last):\n",
      "  File \"/opt/conda/lib/python3.10/site-packages/sklearn/model_selection/_validation.py\", line 686, in _fit_and_score\n",
      "    estimator.fit(X_train, y_train, **fit_params)\n",
      "  File \"/opt/conda/lib/python3.10/site-packages/sklearn/linear_model/_logistic.py\", line 1162, in fit\n",
      "    solver = _check_solver(self.solver, self.penalty, self.dual)\n",
      "  File \"/opt/conda/lib/python3.10/site-packages/sklearn/linear_model/_logistic.py\", line 54, in _check_solver\n",
      "    raise ValueError(\n",
      "ValueError: Solver lbfgs supports only 'l2' or 'none' penalties, got l1 penalty.\n",
      "\n",
      "  warnings.warn(some_fits_failed_message, FitFailedWarning)\n",
      "/opt/conda/lib/python3.10/site-packages/sklearn/model_selection/_search.py:952: UserWarning: One or more of the test scores are non-finite: [0.50994489        nan 0.50994489 0.50994489 0.51034218        nan\n",
      " 0.51147636 0.51435345 0.55890683        nan 0.5601179  0.57117775\n",
      " 0.59072152        nan 0.59056773 0.59401512]\n",
      "  warnings.warn(\n"
     ]
    },
    {
     "data": {
      "text/plain": [
       "0.6290849673202614"
      ]
     },
     "execution_count": 13,
     "metadata": {},
     "output_type": "execute_result"
    }
   ],
   "source": [
    "from sklearn.model_selection import GridSearchCV\n",
    "from sklearn.linear_model import LogisticRegression\n",
    "\n",
    "log_reg = LogisticRegression(max_iter=2000)\n",
    "\n",
    "grid = {'penalty':['l1', 'l2'],\n",
    "       'C':[0.001, 0.01, 0.1, 1],\n",
    "       'solver':['liblinear','lbfgs']}\n",
    "grid_search = GridSearchCV(log_reg, grid, cv=5, scoring='accuracy', n_jobs=-1)\n",
    "\n",
    "grid_search.fit(X, y)\n",
    "y_pred2 = grid_search.best_estimator_.predict(X_val)\n",
    "\n",
    "test_pred = grid_search.best_estimator_.predict(X_test)\n",
    "accuracy_score(y_val, y_pred2)"
   ]
  },
  {
   "cell_type": "code",
   "execution_count": 14,
   "id": "031fef1b",
   "metadata": {
    "execution": {
     "iopub.execute_input": "2024-05-10T03:56:14.000186Z",
     "iopub.status.busy": "2024-05-10T03:56:13.999465Z",
     "iopub.status.idle": "2024-05-10T03:56:14.137438Z",
     "shell.execute_reply": "2024-05-10T03:56:14.136485Z"
    },
    "papermill": {
     "duration": 0.156844,
     "end_time": "2024-05-10T03:56:14.139680",
     "exception": false,
     "start_time": "2024-05-10T03:56:13.982836",
     "status": "completed"
    },
    "tags": []
   },
   "outputs": [],
   "source": [
    "submission_df = pd.read_csv(\"/kaggle/input/sentiment-analysis-on-movie-reviews/sampleSubmission.csv\")\n",
    "submission_df.Sentiment = test_pred\n",
    "submission_df.to_csv('submission.csv', index=None)"
   ]
  }
 ],
 "metadata": {
  "kaggle": {
   "accelerator": "nvidiaTeslaT4",
   "dataSources": [
    {
     "databundleVersionId": 32092,
     "sourceId": 3810,
     "sourceType": "competition"
    }
   ],
   "dockerImageVersionId": 30698,
   "isGpuEnabled": true,
   "isInternetEnabled": true,
   "language": "python",
   "sourceType": "notebook"
  },
  "kernelspec": {
   "display_name": "Python 3",
   "language": "python",
   "name": "python3"
  },
  "language_info": {
   "codemirror_mode": {
    "name": "ipython",
    "version": 3
   },
   "file_extension": ".py",
   "mimetype": "text/x-python",
   "name": "python",
   "nbconvert_exporter": "python",
   "pygments_lexer": "ipython3",
   "version": "3.10.13"
  },
  "papermill": {
   "default_parameters": {},
   "duration": 993.497974,
   "end_time": "2024-05-10T03:56:16.767870",
   "environment_variables": {},
   "exception": null,
   "input_path": "__notebook__.ipynb",
   "output_path": "__notebook__.ipynb",
   "parameters": {},
   "start_time": "2024-05-10T03:39:43.269896",
   "version": "2.5.0"
  }
 },
 "nbformat": 4,
 "nbformat_minor": 5
}
